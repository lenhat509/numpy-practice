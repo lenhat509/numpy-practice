{
 "cells": [
  {
   "cell_type": "code",
   "execution_count": 1,
   "metadata": {},
   "outputs": [],
   "source": [
    "import numpy as np"
   ]
  },
  {
   "cell_type": "code",
   "execution_count": 2,
   "metadata": {},
   "outputs": [
    {
     "name": "stdout",
     "output_type": "stream",
     "text": [
      "[[ 0  1  2  3  4]\n",
      " [ 5  6  7  8  9]\n",
      " [10 11 12 13 14]\n",
      " [15 16 17 18 19]]\n"
     ]
    }
   ],
   "source": [
    "x = np.arange(0, 20).reshape((4,5))\n",
    "print(x)\n"
   ]
  },
  {
   "cell_type": "code",
   "execution_count": 4,
   "metadata": {},
   "outputs": [
    {
     "name": "stdout",
     "output_type": "stream",
     "text": [
      "[11 12 13 14]\n"
     ]
    }
   ],
   "source": [
    "y = x[(x > 10) & (x < 15)]\n",
    "print(y)"
   ]
  },
  {
   "cell_type": "code",
   "execution_count": 8,
   "metadata": {},
   "outputs": [
    {
     "name": "stdout",
     "output_type": "stream",
     "text": [
      "[[ True  True  True  True  True]\n",
      " [ True  True  True  True  True]\n",
      " [False False False False False]\n",
      " [False  True  True  True  True]]\n"
     ]
    }
   ],
   "source": [
    "print((x < 10) | (x > 15))"
   ]
  },
  {
   "cell_type": "code",
   "execution_count": 11,
   "metadata": {},
   "outputs": [
    {
     "name": "stdout",
     "output_type": "stream",
     "text": [
      "[1 6 8]\n",
      "[4 5]\n",
      "[0 1 3 4 5 6 8]\n"
     ]
    }
   ],
   "source": [
    "x = np.array([1, 4, 5, 6, 8])\n",
    "y = np.array([6 ,8 ,3, 1, 0])\n",
    "print(np.intersect1d(x, y))\n",
    "print(np.setdiff1d(x, y))\n",
    "print(np.union1d(x,y))"
   ]
  },
  {
   "cell_type": "code",
   "execution_count": 17,
   "metadata": {},
   "outputs": [],
   "source": [
    "x = np.random.randint(1, 10, 15)\n"
   ]
  },
  {
   "cell_type": "code",
   "execution_count": 19,
   "metadata": {},
   "outputs": [
    {
     "name": "stdout",
     "output_type": "stream",
     "text": [
      "[1 1 1 3 3 4 4 5 6 6 7 7 8 8 9]\n",
      "[1 1 1 3 3 4 4 5 6 6 7 7 8 8 9]\n",
      "[1 3 4 5 6 7 8 9]\n",
      "[1 1 1 3 3 4 4 5 6 6 7 7 8 8 9]\n",
      "[1 1 1 3 3 4 4 5 6 6 7 7 8 8 9]\n"
     ]
    }
   ],
   "source": [
    "print(x)\n",
    "print(np.sort(x))\n",
    "print(np.sort(np.unique(x)))\n",
    "print(x)\n",
    "x.sort()\n",
    "print(x)"
   ]
  },
  {
   "cell_type": "code",
   "execution_count": 20,
   "metadata": {},
   "outputs": [
    {
     "name": "stdout",
     "output_type": "stream",
     "text": [
      "[[0 8 8 8 1]\n",
      " [4 6 5 7 3]\n",
      " [4 7 3 3 8]\n",
      " [5 2 0 4 8]\n",
      " [2 7 9 2 7]]\n"
     ]
    }
   ],
   "source": [
    "x = np.random.randint(0, 10, (5,5))\n",
    "print(x)"
   ]
  },
  {
   "cell_type": "code",
   "execution_count": 22,
   "metadata": {},
   "outputs": [
    {
     "name": "stdout",
     "output_type": "stream",
     "text": [
      "[[0 2 0 2 1]\n",
      " [2 6 3 3 3]\n",
      " [4 7 5 4 7]\n",
      " [4 7 8 7 8]\n",
      " [5 8 9 8 8]]\n"
     ]
    }
   ],
   "source": [
    "y = np.sort(x, axis=0)\n",
    "print(y)"
   ]
  },
  {
   "cell_type": "code",
   "execution_count": 23,
   "metadata": {},
   "outputs": [
    {
     "name": "stdout",
     "output_type": "stream",
     "text": [
      "[[0 1 8 8 8]\n",
      " [3 4 5 6 7]\n",
      " [3 3 4 7 8]\n",
      " [0 2 4 5 8]\n",
      " [2 2 7 7 9]]\n"
     ]
    }
   ],
   "source": [
    "y = np.sort(x, axis=1)\n",
    "print(y)"
   ]
  },
  {
   "cell_type": "code",
   "execution_count": 25,
   "metadata": {},
   "outputs": [
    {
     "name": "stdout",
     "output_type": "stream",
     "text": [
      "[[0 0 1 2 2]\n",
      " [2 3 3 3 6]\n",
      " [4 4 5 7 7]\n",
      " [4 7 7 8 8]\n",
      " [5 8 8 8 9]]\n"
     ]
    }
   ],
   "source": [
    "x.sort(axis=0)\n",
    "x.sort(axis=1)\n",
    "print(x)"
   ]
  },
  {
   "cell_type": "code",
   "execution_count": null,
   "metadata": {},
   "outputs": [],
   "source": []
  }
 ],
 "metadata": {
  "kernelspec": {
   "display_name": "Python [conda env:ml] *",
   "language": "python",
   "name": "conda-env-ml-py"
  },
  "language_info": {
   "codemirror_mode": {
    "name": "ipython",
    "version": 3
   },
   "file_extension": ".py",
   "mimetype": "text/x-python",
   "name": "python",
   "nbconvert_exporter": "python",
   "pygments_lexer": "ipython3",
   "version": "3.8.5"
  }
 },
 "nbformat": 4,
 "nbformat_minor": 4
}

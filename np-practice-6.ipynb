{
 "cells": [
  {
   "cell_type": "code",
   "execution_count": 1,
   "metadata": {},
   "outputs": [],
   "source": [
    "import numpy as np"
   ]
  },
  {
   "cell_type": "code",
   "execution_count": 6,
   "metadata": {},
   "outputs": [
    {
     "name": "stdout",
     "output_type": "stream",
     "text": [
      "[[1 3]\n",
      " [2 4]]\n",
      "[[2 8]\n",
      " [1 2]]\n"
     ]
    }
   ],
   "source": [
    "x = np.array([[1, 3], [2, 4]])\n",
    "y = np.array([[2, 8], [1, 2]])\n",
    "print(x)\n",
    "print(y)"
   ]
  },
  {
   "cell_type": "code",
   "execution_count": 7,
   "metadata": {},
   "outputs": [
    {
     "name": "stdout",
     "output_type": "stream",
     "text": [
      "[[ 3 11]\n",
      " [ 3  6]]\n",
      "[[ 3 11]\n",
      " [ 3  6]]\n"
     ]
    }
   ],
   "source": [
    "print(x + y)\n",
    "print(np.add(x, y))"
   ]
  },
  {
   "cell_type": "code",
   "execution_count": 8,
   "metadata": {},
   "outputs": [
    {
     "name": "stdout",
     "output_type": "stream",
     "text": [
      "[[-1 -5]\n",
      " [ 1  2]]\n",
      "[[-1 -5]\n",
      " [ 1  2]]\n"
     ]
    }
   ],
   "source": [
    "print(x - y)\n",
    "print(np.subtract(x, y))"
   ]
  },
  {
   "cell_type": "code",
   "execution_count": 9,
   "metadata": {},
   "outputs": [
    {
     "name": "stdout",
     "output_type": "stream",
     "text": [
      "[[ 2 24]\n",
      " [ 2  8]]\n",
      "[[ 2 24]\n",
      " [ 2  8]]\n"
     ]
    }
   ],
   "source": [
    "print(x * y)\n",
    "print(np.multiply(x, y))"
   ]
  },
  {
   "cell_type": "code",
   "execution_count": 10,
   "metadata": {},
   "outputs": [
    {
     "name": "stdout",
     "output_type": "stream",
     "text": [
      "[[0.5   0.375]\n",
      " [2.    2.   ]]\n",
      "[[0.5   0.375]\n",
      " [2.    2.   ]]\n"
     ]
    }
   ],
   "source": [
    "print(x / y)\n",
    "print(np.divide(x, y))"
   ]
  },
  {
   "cell_type": "code",
   "execution_count": 12,
   "metadata": {},
   "outputs": [
    {
     "name": "stdout",
     "output_type": "stream",
     "text": [
      "[[   1 6561]\n",
      " [   2   16]]\n"
     ]
    }
   ],
   "source": [
    "print(np.power(x, y))"
   ]
  },
  {
   "cell_type": "code",
   "execution_count": 13,
   "metadata": {},
   "outputs": [
    {
     "name": "stdout",
     "output_type": "stream",
     "text": [
      "[[ 2.71828183 20.08553692]\n",
      " [ 7.3890561  54.59815003]]\n"
     ]
    }
   ],
   "source": [
    "print(np.exp(x))"
   ]
  },
  {
   "cell_type": "code",
   "execution_count": 14,
   "metadata": {},
   "outputs": [
    {
     "name": "stdout",
     "output_type": "stream",
     "text": [
      "[[1.         1.73205081]\n",
      " [1.41421356 2.        ]]\n"
     ]
    }
   ],
   "source": [
    "print(np.sqrt(x))"
   ]
  },
  {
   "cell_type": "code",
   "execution_count": 15,
   "metadata": {},
   "outputs": [
    {
     "name": "stdout",
     "output_type": "stream",
     "text": [
      "[[1 3]\n",
      " [2 4]]\n",
      "[[4 6]\n",
      " [5 7]]\n",
      "[[-2  0]\n",
      " [-1  1]]\n",
      "[[ 3  9]\n",
      " [ 6 12]]\n",
      "[[0.33333333 1.        ]\n",
      " [0.66666667 1.33333333]]\n"
     ]
    }
   ],
   "source": [
    "print(x)\n",
    "print(x + 3)\n",
    "print(x - 3)\n",
    "print(x * 3)\n",
    "print(x / 3)"
   ]
  },
  {
   "cell_type": "code",
   "execution_count": 16,
   "metadata": {},
   "outputs": [
    {
     "name": "stdout",
     "output_type": "stream",
     "text": [
      "[[4 6]\n",
      " [5 7]]\n",
      "[[-2  0]\n",
      " [-1  1]]\n",
      "[[ 3  9]\n",
      " [ 6 12]]\n",
      "[[0.33333333 1.        ]\n",
      " [0.66666667 1.33333333]]\n"
     ]
    }
   ],
   "source": [
    "print(np.add(x, 3))\n",
    "print(np.subtract(x, 3))\n",
    "print(np.multiply(x, 3))\n",
    "print(np.divide(x, 3))"
   ]
  },
  {
   "cell_type": "code",
   "execution_count": 18,
   "metadata": {},
   "outputs": [
    {
     "name": "stdout",
     "output_type": "stream",
     "text": [
      "[[1 3]\n",
      " [2 4]]\n",
      "[[3 7]\n",
      " [4 8]]\n",
      "[[3 7]\n",
      " [4 8]]\n"
     ]
    }
   ],
   "source": [
    "z = np.array([2,4])\n",
    "print(x)\n",
    "print(x + z)\n",
    "print(np.add(x, z))"
   ]
  },
  {
   "cell_type": "code",
   "execution_count": 19,
   "metadata": {},
   "outputs": [
    {
     "name": "stdout",
     "output_type": "stream",
     "text": [
      "[[1 3]\n",
      " [2 4]]\n",
      "[[ 3  5]\n",
      " [ 8 10]]\n",
      "[[ 3  5]\n",
      " [ 8 10]]\n"
     ]
    }
   ],
   "source": [
    "w = np.array([[2],[6]])\n",
    "print(x)\n",
    "print(x + w)\n",
    "print(np.add(x, w))"
   ]
  },
  {
   "cell_type": "code",
   "execution_count": 25,
   "metadata": {},
   "outputs": [
    {
     "name": "stdout",
     "output_type": "stream",
     "text": [
      "[[0 1 2]\n",
      " [3 4 5]\n",
      " [6 7 8]]\n",
      "[3. 4. 5.]\n",
      "[1. 4. 7.]\n"
     ]
    }
   ],
   "source": [
    "x = np.arange(9).reshape((3, 3))\n",
    "print(x)\n",
    "print(np.median(x, axis=0))\n",
    "print(np.median(x, axis=1))"
   ]
  },
  {
   "cell_type": "code",
   "execution_count": 32,
   "metadata": {},
   "outputs": [
    {
     "name": "stdout",
     "output_type": "stream",
     "text": [
      "[[1 1 1 1]\n",
      " [1 1 1 1]\n",
      " [1 1 1 1]\n",
      " [1 1 1 1]]\n",
      "[1 2 3 4]\n",
      "[[1 2 3 4]\n",
      " [1 2 3 4]\n",
      " [1 2 3 4]\n",
      " [1 2 3 4]]\n"
     ]
    }
   ],
   "source": [
    "x = np.full((4, 4), 1)\n",
    "y = np.arange(1,5)\n",
    "print(x)\n",
    "print(y)\n",
    "print(x * y)"
   ]
  },
  {
   "cell_type": "code",
   "execution_count": null,
   "metadata": {},
   "outputs": [],
   "source": []
  }
 ],
 "metadata": {
  "kernelspec": {
   "display_name": "Python [conda env:ml] *",
   "language": "python",
   "name": "conda-env-ml-py"
  },
  "language_info": {
   "codemirror_mode": {
    "name": "ipython",
    "version": 3
   },
   "file_extension": ".py",
   "mimetype": "text/x-python",
   "name": "python",
   "nbconvert_exporter": "python",
   "pygments_lexer": "ipython3",
   "version": "3.8.5"
  }
 },
 "nbformat": 4,
 "nbformat_minor": 4
}

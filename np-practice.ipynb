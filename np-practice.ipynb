{
 "cells": [
  {
   "cell_type": "code",
   "execution_count": 1,
   "metadata": {},
   "outputs": [],
   "source": [
    "import numpy as np"
   ]
  },
  {
   "cell_type": "code",
   "execution_count": 14,
   "metadata": {},
   "outputs": [
    {
     "name": "stdout",
     "output_type": "stream",
     "text": [
      "[[1 2 3]\n",
      " [4 5 6]]\n"
     ]
    }
   ],
   "source": [
    "x = np.array([[1,2,3], [4,5,6]])\n",
    "print(x)"
   ]
  },
  {
   "cell_type": "code",
   "execution_count": 5,
   "metadata": {},
   "outputs": [
    {
     "name": "stdout",
     "output_type": "stream",
     "text": [
      "2\n",
      "(2, 3)\n",
      "int32\n"
     ]
    }
   ],
   "source": [
    "print(x.ndim)\n",
    "print(x.shape)\n",
    "print(x.dtype)"
   ]
  },
  {
   "cell_type": "code",
   "execution_count": 15,
   "metadata": {},
   "outputs": [
    {
     "name": "stdout",
     "output_type": "stream",
     "text": [
      "<class 'numpy.ndarray'>\n"
     ]
    }
   ],
   "source": [
    "print(type(x))"
   ]
  },
  {
   "cell_type": "code",
   "execution_count": 7,
   "metadata": {},
   "outputs": [],
   "source": [
    "np.save('my_array', x)"
   ]
  },
  {
   "cell_type": "code",
   "execution_count": 9,
   "metadata": {},
   "outputs": [
    {
     "name": "stdout",
     "output_type": "stream",
     "text": [
      "[[1 2 3]\n",
      " [4 5 6]]\n"
     ]
    }
   ],
   "source": [
    "y = np.load('my_array.npy')\n",
    "print(y)"
   ]
  },
  {
   "cell_type": "code",
   "execution_count": 10,
   "metadata": {},
   "outputs": [],
   "source": [
    "z = np.array([1,2,3])\n",
    "np.save('my_array', z)"
   ]
  },
  {
   "cell_type": "code",
   "execution_count": 11,
   "metadata": {},
   "outputs": [
    {
     "name": "stdout",
     "output_type": "stream",
     "text": [
      "[1 2 3]\n"
     ]
    }
   ],
   "source": [
    "y = np.load('my_array.npy')\n",
    "print(y)"
   ]
  },
  {
   "cell_type": "code",
   "execution_count": 12,
   "metadata": {},
   "outputs": [
    {
     "name": "stdout",
     "output_type": "stream",
     "text": [
      "[1 2 3]\n"
     ]
    }
   ],
   "source": [
    "y = np.load('my_array.npy')\n",
    "print(y)"
   ]
  },
  {
   "cell_type": "code",
   "execution_count": 13,
   "metadata": {},
   "outputs": [
    {
     "data": {
      "text/plain": [
       "6"
      ]
     },
     "execution_count": 13,
     "metadata": {},
     "output_type": "execute_result"
    }
   ],
   "source": [
    "x.size"
   ]
  },
  {
   "cell_type": "code",
   "execution_count": 21,
   "metadata": {},
   "outputs": [
    {
     "name": "stdout",
     "output_type": "stream",
     "text": [
      "[0.95845806 0.65667713 0.80985029 0.70877552 0.31753886 0.47813014\n",
      " 0.53199259 0.13738223 0.21922818 0.65550008 0.75769801 0.99774457]\n"
     ]
    }
   ],
   "source": [
    "x = np.random.random(size=(2,3,2)).reshape(12)\n",
    "print(x)"
   ]
  },
  {
   "cell_type": "code",
   "execution_count": 27,
   "metadata": {},
   "outputs": [
    {
     "name": "stdout",
     "output_type": "stream",
     "text": [
      "[[4 2 5]\n",
      " [5 2 4]]\n"
     ]
    }
   ],
   "source": [
    "x = np.random.randint(2, 6, size=(2,3))\n",
    "print(x)"
   ]
  },
  {
   "cell_type": "code",
   "execution_count": 33,
   "metadata": {},
   "outputs": [
    {
     "name": "stdout",
     "output_type": "stream",
     "text": [
      "[[-0.02150517  0.02936372  0.04552227 ...  0.10406454  0.09979496\n",
      "  -0.14895806]\n",
      " [-0.06239108  0.01445276  0.09484425 ... -0.00074596 -0.1219123\n",
      "  -0.04814216]\n",
      " [-0.10078584  0.00237497 -0.07520956 ... -0.03530258 -0.02412518\n",
      "   0.11833599]\n",
      " ...\n",
      " [-0.07707534  0.03968307  0.07396253 ... -0.1101479  -0.05694265\n",
      "   0.05606684]\n",
      " [-0.10717433  0.10376439 -0.14621121 ... -0.24369017 -0.1322489\n",
      "   0.04084154]\n",
      " [-0.12763616 -0.00710279 -0.17604538 ...  0.12347422 -0.10845539\n",
      "   0.09923207]]\n"
     ]
    }
   ],
   "source": [
    "x = np.random.normal(0, 0.1, (1000, 1000))\n",
    "print(x)"
   ]
  },
  {
   "cell_type": "code",
   "execution_count": 39,
   "metadata": {},
   "outputs": [
    {
     "name": "stdout",
     "output_type": "stream",
     "text": [
      "Mean:  -0.00010455818507884384\n",
      "Std:  0.10017394208987802\n",
      "Max:  0.5025985194619054\n",
      "Min:  -0.5015702353449126\n",
      "# positive:  [[False  True  True ...  True  True False]\n",
      " [False  True  True ... False False False]\n",
      " [False  True False ... False False  True]\n",
      " ...\n",
      " [False  True  True ... False False  True]\n",
      " [False  True False ... False False  True]\n",
      " [False False False ...  True False  True]]\n",
      "# negative:  500681\n"
     ]
    }
   ],
   "source": [
    "print('Mean: ', x.mean())\n",
    "print('Std: ', x.std())\n",
    "print('Max: ', x.max())\n",
    "print('Min: ', x.min())\n",
    "print('# positive: ', (x > 0))\n",
    "print('# negative: ', (x < 0).sum())"
   ]
  },
  {
   "cell_type": "code",
   "execution_count": null,
   "metadata": {},
   "outputs": [],
   "source": []
  },
  {
   "cell_type": "code",
   "execution_count": null,
   "metadata": {},
   "outputs": [],
   "source": []
  },
  {
   "cell_type": "code",
   "execution_count": null,
   "metadata": {},
   "outputs": [],
   "source": []
  }
 ],
 "metadata": {
  "kernelspec": {
   "display_name": "Python [conda env:ml] *",
   "language": "python",
   "name": "conda-env-ml-py"
  },
  "language_info": {
   "codemirror_mode": {
    "name": "ipython",
    "version": 3
   },
   "file_extension": ".py",
   "mimetype": "text/x-python",
   "name": "python",
   "nbconvert_exporter": "python",
   "pygments_lexer": "ipython3",
   "version": "3.8.5"
  }
 },
 "nbformat": 4,
 "nbformat_minor": 4
}
